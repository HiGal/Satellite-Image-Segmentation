{
 "cells": [
  {
   "cell_type": "code",
   "execution_count": 1,
   "metadata": {},
   "outputs": [],
   "source": [
    "import os\n",
    "import numpy as np\n",
    "import imageio\n",
    "\n",
    "import keras\n",
    "from keras.applications.vgg16 import VGG16\n",
    "from keras.applications.resnet50 import ResNet50\n",
    "from keras.models import Model\n",
    "from keras.layers import Dropout, Input, merge, Convolution2D, MaxPooling2D, UpSampling2D, Cropping2D, Activation\n",
    "from keras.layers import concatenate\n",
    "from keras.layers.normalization import BatchNormalization\n",
    "\n",
    "import matplotlib.pyplot as plt\n",
    "\n",
    "from metrics import f2_score as f2\n",
    "from models import get_unet_resnet_dropout, set_best_unet_resnet_dropout_weights"
   ]
  },
  {
   "cell_type": "code",
   "execution_count": 2,
   "metadata": {},
   "outputs": [],
   "source": [
    "PATH_TO_CROPPED_PNG = 'DATA/CROPPED/PNG/'\n",
    "PATH_TO_CROPPED_MASKS = 'DATA/CROPPED/MASK/'\n",
    "samples_names = os.listdir(PATH_TO_CROPPED_PNG)\n",
    "samples_names.remove('.ipynb_checkpoints')\n",
    "\n",
    "samples_names_train = samples_names[0:9]\n",
    "samples_names_val = [samples_names[0]]"
   ]
  },
  {
   "cell_type": "code",
   "execution_count": 3,
   "metadata": {},
   "outputs": [],
   "source": [
    "def data_generator(samples_names, batch_size):\n",
    "    while True:\n",
    "        X = []\n",
    "        y = []\n",
    "\n",
    "        for ii in range(batch_size):\n",
    "            sample_index = np.random.randint(len(samples_names))\n",
    "            sample_name = samples_names[sample_index]\n",
    "\n",
    "            imgs_names = list(filter(lambda x: not x.endswith('.json'), \n",
    "                                     os.listdir(os.path.join(PATH_TO_CROPPED_PNG, sample_name))))\n",
    "            img_index = np.random.randint(len(imgs_names))\n",
    "            img_name = imgs_names[img_index]\n",
    "            img_path = os.path.join(PATH_TO_CROPPED_PNG, sample_name, img_name)\n",
    "            mask_path = os.path.join(PATH_TO_CROPPED_MASKS, sample_name, img_name)\n",
    "\n",
    "            img = np.array(imageio.imread(img_path))\n",
    "            img = np.true_divide(img, 255)\n",
    "            mask = np.array(imageio.imread(mask_path))\n",
    "            mask = np.true_divide(mask, 255).reshape((256, 256, 1))\n",
    "\n",
    "            X.append(img)\n",
    "            y.append(mask)\n",
    "\n",
    "        X = np.array(X)\n",
    "        y = np.array(y)\n",
    "        yield X, y"
   ]
  },
  {
   "cell_type": "code",
   "execution_count": null,
   "metadata": {},
   "outputs": [],
   "source": [
    "model = get_unet_resnet_dropout()\n",
    "set_best_unet_resnet_dropout_weights(model)"
   ]
  },
  {
   "cell_type": "code",
   "execution_count": null,
   "metadata": {},
   "outputs": [],
   "source": [
    "model.load_weights('weights/fcn_best_resnet_dropout.h5')"
   ]
  },
  {
   "cell_type": "code",
   "execution_count": null,
   "metadata": {},
   "outputs": [],
   "source": [
    "# Save best and last weights\n",
    "best_w = keras.callbacks.ModelCheckpoint('weights/fcn_best_resnet_dropout.h5',\n",
    "                                        monitor='val_loss',\n",
    "                                        verbose=0,\n",
    "                                        save_best_only=True,\n",
    "                                        save_weights_only=True,\n",
    "                                        mode='auto',\n",
    "                                        period=1)\n",
    "\n",
    "last_w = keras.callbacks.ModelCheckpoint('weights/fcn_last_resnet_dropout.h5',\n",
    "                                        monitor='val_loss',\n",
    "                                        verbose=0,\n",
    "                                        save_best_only=False,\n",
    "                                        save_weights_only=True,\n",
    "                                        mode='auto',\n",
    "                                        period=1)\n",
    "\n",
    "callbacks = [best_w, last_w]\n",
    "    \n",
    "optimizer = keras.optimizers.Nadam(lr=1e-3)\n",
    "model.compile(optimizer, loss='binary_crossentropy', metrics=[f2, 'accuracy'])"
   ]
  },
  {
   "cell_type": "code",
   "execution_count": null,
   "metadata": {},
   "outputs": [],
   "source": [
    "model.fit_generator(data_generator(samples_names_train, 15),\n",
    "                     steps_per_epoch=100,\n",
    "                     epochs=20,\n",
    "                     validation_data=data_generator(samples_names_val, 30),\n",
    "                     validation_steps=50,\n",
    "                     callbacks=callbacks,\n",
    "                     initial_epoch=0)"
   ]
  },
  {
   "cell_type": "code",
   "execution_count": null,
   "metadata": {},
   "outputs": [],
   "source": [
    "optimizer = keras.optimizers.Nadam(lr=1e-4)\n",
    "model.compile(optimizer, loss='binary_crossentropy', metrics=[f2, 'accuracy'])"
   ]
  },
  {
   "cell_type": "code",
   "execution_count": null,
   "metadata": {},
   "outputs": [],
   "source": [
    "model.fit_generator(data_generator(samples_names_train, 10),\n",
    "                     steps_per_epoch=100,\n",
    "                     epochs=10,\n",
    "                     validation_data=data_generator(samples_names_val, 30),\n",
    "                     validation_steps=50,\n",
    "                     callbacks=callbacks,\n",
    "                     initial_epoch=0)"
   ]
  },
  {
   "cell_type": "code",
   "execution_count": null,
   "metadata": {},
   "outputs": [],
   "source": [
    "optimizer = keras.optimizers.Nadam(lr=5e-5)\n",
    "model.compile(optimizer, loss='binary_crossentropy', metrics=[f2, 'accuracy'])"
   ]
  },
  {
   "cell_type": "code",
   "execution_count": null,
   "metadata": {},
   "outputs": [],
   "source": [
    "model.fit_generator(data_generator(samples_names_train, 10),\n",
    "                     steps_per_epoch=100,\n",
    "                     epochs=2,\n",
    "                     validation_data=data_generator(samples_names_val, 30),\n",
    "                     validation_steps=50,\n",
    "                     callbacks=callbacks,\n",
    "                     initial_epoch=0)"
   ]
  },
  {
   "cell_type": "code",
   "execution_count": null,
   "metadata": {},
   "outputs": [],
   "source": [
    "for X, y in data_generator(samples_names_val, 1000):\n",
    "    break\n",
    "\n",
    "predictions = model.predict(X)"
   ]
  },
  {
   "cell_type": "code",
   "execution_count": null,
   "metadata": {},
   "outputs": [],
   "source": [
    "model.evaluate(X, y, verbose=1)"
   ]
  }
 ],
 "metadata": {
  "kernelspec": {
   "display_name": "Python 3",
   "language": "python",
   "name": "python3"
  },
  "language_info": {
   "codemirror_mode": {
    "name": "ipython",
    "version": 3
   },
   "file_extension": ".py",
   "mimetype": "text/x-python",
   "name": "python",
   "nbconvert_exporter": "python",
   "pygments_lexer": "ipython3",
   "version": "3.5.6"
  }
 },
 "nbformat": 4,
 "nbformat_minor": 2
}
